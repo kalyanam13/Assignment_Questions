{
 "cells": [
  {
   "cell_type": "markdown",
   "id": "afe0350a",
   "metadata": {},
   "source": [
    "# PWSKills Assignment Questions\n"
   ]
  },
  {
   "cell_type": "markdown",
   "id": "e3a9a326",
   "metadata": {},
   "source": [
    "### Question no.1: What are the characteristics of tuples? Is tuple immutable?\n",
    "### Answer: Tuple items are ordered, unchangeable, and allow duplicate values.\n",
    "\n",
    "### Tuple items are indexed, the first item has index [0], the second item has index [1] etc.\n",
    "\n",
    "### Ordered\n",
    "### When we say that tuples are ordered, it means that the items have a defined order, and that order will not change.\n",
    "\n",
    "### Unchangeable\n",
    "### Tuples are unchangeable, meaning that we cannot change, add or remove items after the tuple has been created.\n",
    "\n",
    "### Allow Duplicates\n",
    "### Since tuples are indexed, they can have items with the same value:\n",
    "### Tuples allow duplicate values:\n",
    "\n",
    "### thistuple = (\"apple\", \"banana\", \"cherry\", \"apple\", \"cherry\")\n",
    "### print(thistuple)\n",
    "\n",
    "### Immutability of Tuple:\n",
    "### Tuples are immutable and hence cannot have any changes in them once they are created in Python. This is because they support the same sequence operations as strings. We all know that strings are immutable. The index operator will select an element from a tuple just like in a string. Hence, they are immutable.\n",
    "### |--------------------------------------------------------------------------------------------------------------------------------------|\n"
   ]
  },
  {
   "cell_type": "markdown",
   "id": "49db70b7",
   "metadata": {},
   "source": [
    "### Question no.2:What are the two tuple methods in python? Give an example of each method.Give a reason why tuples have only two in-built methods as compared to lists.\n",
    "### Answer:In Python, tuples are immutables. Meaning, you cannot change items of a tuple once it is assigned. There are only two tuple methods count() and index() that a tuple object can call.\n",
    "\n",
    "### Python Tuple count()\n",
    "### returns count of the element in the tuple\n",
    "\n",
    "### Python Tuple index()\n",
    "### returns the index of the element in the tuple\n",
    "### Count() Method\n",
    "### The count() method of Tuple returns the number of times the given element appears in the tuple.\n",
    "\n",
    "### Syntax:\n",
    "\n",
    "### tuple.count(element)\n",
    "### Where the element is the element that is to be counted.\n",
    "\n",
    "\n",
    "### Example 1: Using the Tuple count() method \n",
    "\n",
    "\n",
    "### #Creating tuples\n",
    "### Tuple1 = (0, 1, 2, 3, 2, 3, 1, 3, 2)\n",
    "### Tuple2 = ('python', 'geek', 'python','for', 'java', 'python') \n",
    "          \n",
    "  \n",
    "### #count the appearance of 3\n",
    "### res = Tuple1.count(3)\n",
    "### print('Count of 3 in Tuple1 is:', res)\n",
    "  \n",
    "### #count the appearance of python\n",
    "### res = Tuple2.count('python')\n",
    "### print('Count of Python in Tuple2 is:', res)\n",
    "### Output:\n",
    "\n",
    "### Count of 3 in Tuple1 is: 3\n",
    "### Count of Python in Tuple2 is: 3\n",
    "### Example 2: Counting tuples and lists as elements in Tuples\n",
    "\n",
    "\n",
    "### #Creating tuples\n",
    "### Tuple = (0, 1, (2, 3), (2, 3), 1, [3, 2], 'geeks', (0,))\n",
    "         \n",
    "  \n",
    "### #count the appearance of (2, 3)\n",
    "### res = Tuple.count((2, 3))\n",
    "### print('Count of (2, 3) in Tuple is:', res)\n",
    "  \n",
    "### #count the appearance of [3, 2]\n",
    "### res = Tuple.count([3, 2])\n",
    "### print('Count of [3, 2] in Tuple is:', res)\n",
    "### Output:\n",
    "\n",
    "### Count of (2, 3) in Tuple is: 2\n",
    "### Count of [3, 2] in Tuple is: 1\n",
    "### Index() Method\n",
    "### The Index() method returns the first occurrence of the given element from the tuple.\n",
    "\n",
    "### Syntax:\n",
    "\n",
    "### tuple.index(element, start, end)\n",
    "### Parameters:\n",
    "\n",
    "### element: The element to be searched.\n",
    "### start (Optional): The starting index from where the searching is started\n",
    "### end (Optional): The ending index till where the searching is done\n",
    "### Note: This method raises a ValueError if the element is not found in the tuple.\n",
    "\n",
    "### Example 1: Using Tuple Index() Method\n",
    "\n",
    "\n",
    "### #Creating tuples\n",
    "### Tuple = (0, 1, 2, 3, 2, 3, 1, 3, 2)\n",
    "  \n",
    "### #getting the index of 3\n",
    "### res = Tuple.index(3)\n",
    "### print('First occurrence of 3 is', res)\n",
    "  \n",
    "### #getting the index of 3 after 4th\n",
    "### #index\n",
    "### res = Tuple.index(3, 4)\n",
    "### print('First occurrence of 3 after 4th index is:', res)\n",
    "### Output:\n",
    "\n",
    "### First occurrence of 3 is 3\n",
    "### First occurrence of 3 after 4th index is: 5\n",
    "### Example 2: Using Tuple() method when the element is not found\n",
    "\n",
    "\n",
    "### #Creating tuples\n",
    "### Tuple = (0, 1, 2, 3, 2, 3, 1, 3, 2)\n",
    "  \n",
    "### #getting the index of 3\n",
    "### res = Tuple.index(4)\n",
    "### Output:\n",
    "\n",
    "### ValueError: tuple.index(x): x not in tuple\n",
    "\n",
    "### Also tuples have only two in built methods as compared to lists:\n",
    "### The reason is simple: tuples are immutable, meaning you cannot change their contents after they are created. The length of tuples is also fixed. \n",
    "### Difference Between List and Tuple (Table)\n",
    "### Following are the difference between list and tuple - \n",
    "\n",
    "### Python Lists\n",
    "### Python Tuples\n",
    "### 1\n",
    "\n",
    "### List are mutable\n",
    "\n",
    "### Tuples are immutable\n",
    "\n",
    "### 2\n",
    "\n",
    "### Iterations are time-consuming\n",
    "\n",
    "### Iterations are comparatively Faster\n",
    "\n",
    "### 3\n",
    "\n",
    "### Inserting and deleting items is easier with a list.\n",
    "\n",
    "### Accessing the elements is best accomplished with a tuple data type.\n",
    "\n",
    "### 4\n",
    "\n",
    "### Lists consume more memory\n",
    "\n",
    "### Tuple consumes less than the list\n",
    "\n",
    "### 5\n",
    "\n",
    "### Lists have several built-in methods.\n",
    "\n",
    "### A tuple does not have many built-in methods because of immutability\n",
    "\n",
    "### 6\n",
    "\n",
    "### A unexpected change or error is more likely to occur in a list.\n",
    "\n",
    "### In a tuple, changes and errors don't usually occur because of immutability.\n",
    "\n",
    "### |-----------------------------------------------------------------------------------------------------------------------------------------|"
   ]
  },
  {
   "cell_type": "markdown",
   "id": "a77b0a0a",
   "metadata": {},
   "source": [
    "### Question no.3: Which collection datatypes in python do not allow duplicate items? Write a code using a set to remove duplicates from the given list.\n",
    "### List=[1,1,1,2,1,3,1,4,2,1,2,2,2,3,2,4,3,1,3,2,3,3,3,4,4,1,4,2,4,3,4,4]\n",
    "### Answer: Sets are a collection that is unordered and unindexed. They are mutable (changeable) but do not allow duplicate values to be held"
   ]
  },
  {
   "cell_type": "code",
   "execution_count": 1,
   "id": "3048d00a",
   "metadata": {},
   "outputs": [
    {
     "name": "stdout",
     "output_type": "stream",
     "text": [
      "[1, 2, 3, 4]\n"
     ]
    }
   ],
   "source": [
    "l=[1,1,1,2,1,3,1,4,2,1,2,2,2,3,2,4,3,1,3,2,3,3,3,4,4,1,4,2,4,3,4,4]\n",
    "print(list(set(l)))"
   ]
  },
  {
   "cell_type": "markdown",
   "id": "c8055cc6",
   "metadata": {},
   "source": [
    "### Question no.4: Explain the difference between the union() and update() methods for a set. Give an example of each method.\n",
    "### Answer:Both set.update() and set.union() perform the union operation. However, set.update() adds all missing elements to the set on which it is called whereas set.union() creates a new set. Consequently, the return value of set.update() is None (with side effects) and the return value of set.union() is a set (without side effects)."
   ]
  },
  {
   "cell_type": "markdown",
   "id": "d1fc625f",
   "metadata": {},
   "source": [
    "### Example of the set.update():"
   ]
  },
  {
   "cell_type": "code",
   "execution_count": 3,
   "id": "fe7ca38b",
   "metadata": {},
   "outputs": [
    {
     "name": "stdout",
     "output_type": "stream",
     "text": [
      "{1, 2, 3, 4, 5, 6}\n",
      "{1, 2, 3, 4, 5, 6, 7, 8, 9}\n"
     ]
    }
   ],
   "source": [
    "list1=[1,2,3]\n",
    "list2=[4,5,6]\n",
    "list3=[6,7,8,9]\n",
    "set1=set(list1)\n",
    "set2=set(list2)\n",
    "set1.update(set2)\n",
    "print(set1)\n",
    "set1.update(list3)\n",
    "print(set1)"
   ]
  },
  {
   "cell_type": "code",
   "execution_count": 4,
   "id": "023bda5b",
   "metadata": {},
   "outputs": [
    {
     "name": "stdout",
     "output_type": "stream",
     "text": [
      "{1, 2, 3, 4, 5}\n",
      "{1, 2, 3, 4, 5, 'a', 'c', 'b'}\n"
     ]
    }
   ],
   "source": [
    "# Python program to demonstrate the\n",
    "# use of update() method\n",
    " \n",
    "list1 = [1, 2, 3, 4]\n",
    "list2 = [1, 4, 2, 3, 5]\n",
    "alphabet_set = {'a', 'b', 'c'}\n",
    " \n",
    "# lists converted to sets\n",
    "set1 = set(list2)\n",
    "set2 = set(list1)\n",
    " \n",
    "# Update method\n",
    "set1.update(set2)\n",
    " \n",
    "# Print the updated set\n",
    "print(set1)\n",
    " \n",
    "set1.update(alphabet_set)\n",
    "print(set1)"
   ]
  },
  {
   "cell_type": "markdown",
   "id": "307d270e",
   "metadata": {},
   "source": [
    "### Example of set.union()"
   ]
  },
  {
   "cell_type": "code",
   "execution_count": 5,
   "id": "f00b4c3d",
   "metadata": {},
   "outputs": [
    {
     "name": "stdout",
     "output_type": "stream",
     "text": [
      "set1 U set2: {1, 2, 3, 4, 5, 6}\n",
      "set1 U set2 U set3: {1, 2, 3, 4, 7, 8, 9}\n"
     ]
    }
   ],
   "source": [
    "set1={1,2,3,4}\n",
    "set2={5,6}\n",
    "set3={7,8,9}\n",
    "print(\"set1 U set2:\",set1.union(set2))\n",
    "print(\"set1 U set2 U set3:\",set1.union(set3))"
   ]
  },
  {
   "cell_type": "code",
   "execution_count": 6,
   "id": "cb057835",
   "metadata": {},
   "outputs": [
    {
     "name": "stdout",
     "output_type": "stream",
     "text": [
      "set1 U set2 :  {2, 4, 5, 6, 7, 8}\n",
      "set1 U set2 U set3 : {2, 4, 5, 6, 7, 8, 9, 10}\n"
     ]
    }
   ],
   "source": [
    "set1 = {2, 4, 5, 6}\n",
    "set2 = {4, 6, 7, 8}\n",
    "set3 = {7, 8, 9, 10}\n",
    " \n",
    "# union of two sets\n",
    "print(\"set1 U set2 : \", set1 | set2)\n",
    " \n",
    "# union of three sets\n",
    "print(\"set1 U set2 U set3 :\", set1 |set2 | set3)"
   ]
  },
  {
   "cell_type": "markdown",
   "id": "83592b75",
   "metadata": {},
   "source": [
    "### Question no.5:What is a dictionary? Give an example. Also,state whether a dictionary is ordered or unordered.\n",
    "### Answer:Dictionary\n",
    "### Dictionaries are used to store data values in key:value pairs.\n",
    "\n",
    "### A dictionary is a collection which is ordered*, changeable and do not allow duplicates.\n",
    "\n",
    "### As of Python version 3.7, dictionaries are ordered. In Python 3.6 and earlier, dictionaries are unordered.\n",
    "\n",
    "### Dictionaries are written with curly brackets, and have keys and values:"
   ]
  },
  {
   "cell_type": "markdown",
   "id": "19936faf",
   "metadata": {},
   "source": [
    "### Example of dictionaries:"
   ]
  },
  {
   "cell_type": "code",
   "execution_count": 7,
   "id": "680d02c4",
   "metadata": {},
   "outputs": [
    {
     "name": "stdout",
     "output_type": "stream",
     "text": [
      "{'car': 'Black', 'brand': 'mastang', 'number': 1234}\n"
     ]
    }
   ],
   "source": [
    "this_dict={\"car\":\"Black\",\"brand\":\"mastang\",\"number\":1234}\n",
    "print(this_dict)"
   ]
  },
  {
   "cell_type": "code",
   "execution_count": 9,
   "id": "f66f5c79",
   "metadata": {},
   "outputs": [
    {
     "name": "stdout",
     "output_type": "stream",
     "text": [
      "mastang\n"
     ]
    }
   ],
   "source": [
    "this_dict={\"car\":\"Black\",\"brand\":\"mastang\",\"number\":1234}\n",
    "print(this_dict[\"brand\"])"
   ]
  },
  {
   "cell_type": "markdown",
   "id": "21ba731b",
   "metadata": {},
   "source": [
    "### Question no.6: Can we create a nested dictionary? If so, please give an example by creating a simple one-level nested dictionary.\n",
    "### Answer:Yes, we create a nested dictionary, Nesting Dictionary means putting a dictionary inside another dictionary. Nesting is of great use as the kind of information we can model in programs is expanded greatly. "
   ]
  },
  {
   "cell_type": "markdown",
   "id": "1d9398e8",
   "metadata": {},
   "source": [
    "### Example of the nested dictionary"
   ]
  },
  {
   "cell_type": "code",
   "execution_count": 4,
   "id": "bbb9de46",
   "metadata": {},
   "outputs": [
    {
     "name": "stdout",
     "output_type": "stream",
     "text": [
      "{'course_name': {'Data Science Masters'}, 'Mentors_name': {'krish naik,sudhanshu kumar'}, 'student name': {'Kalyanam Chakrawarty'}}\n"
     ]
    }
   ],
   "source": [
    "nested_dict={\"course_name\":{\"Data Science Masters\"},\"Mentors_name\":{\"krish naik,sudhanshu kumar\"},\"student name\":{\"Kalyanam Chakrawarty\"}}\n",
    "print(nested_dict)"
   ]
  },
  {
   "cell_type": "code",
   "execution_count": 5,
   "id": "861cc082",
   "metadata": {},
   "outputs": [
    {
     "name": "stdout",
     "output_type": "stream",
     "text": [
      "{1: {'name': 'john', 'age': 27, 'sex': 'male'}, 2: {'name': 'maria', 'age': 22, 'sex': 'Female'}}\n"
     ]
    }
   ],
   "source": [
    "people={1:{\"name\":\"john\",\"age\":27,\"sex\":\"male\"},\n",
    "       2:{\"name\":\"maria\",\"age\":22,\"sex\":\"Female\"}}\n",
    "print(people)"
   ]
  },
  {
   "cell_type": "markdown",
   "id": "31179377",
   "metadata": {},
   "source": [
    "### Question no.7:Using setdefault() method, create key named topics in the given dictionary and also add the value of the key as the list['Python','Machine learning','Deep Learning']\n",
    "\n",
    "### dict1={'language':'Python','course':'Data Science Masters'}\n",
    "\n",
    "### Answer:\n"
   ]
  },
  {
   "cell_type": "code",
   "execution_count": 19,
   "id": "b9f73e22",
   "metadata": {},
   "outputs": [
    {
     "name": "stdout",
     "output_type": "stream",
     "text": [
      "{'language': 'Python', 'course': 'Data Science Masters', \"['Python','Machine learning','Deep Learning']\": ['All topics related to data science masters']}\n"
     ]
    }
   ],
   "source": [
    "dict1={'language':'Python','course':'Data Science Masters'}\n",
    "dict1.setdefault(\"['Python','Machine learning','Deep Learning']\",[\"All topics related to data science masters\"])\n",
    "print(dict1)"
   ]
  },
  {
   "cell_type": "markdown",
   "id": "4f3791e4",
   "metadata": {},
   "source": [
    "### Question no.8: What are the three view objects in dictionaries?Use the three in-built methods in python to display these three view objects for the given dictionary.\n",
    "### dict1={'Sport':'Cricket','Teams':['India','Australia','England','South Africa','Sri Lanka','New Zealand']}\n",
    "\n",
    "### Answer:In the python dictionaries, some of the methods return view objects. This view objects are dynamic view objects, meaning that when we made some changes in the dictionary then the view reflects all these changes.\n",
    "\n",
    "### The main view objects of dictionary in python are keys, values and items. They provide a non-constant view of the dictionary’s entries.\n",
    "\n",
    "### Keys holds all the keys of the dictionary, the values objects holds all the values, whereas the items holds the key-value pairs."
   ]
  },
  {
   "cell_type": "code",
   "execution_count": 22,
   "id": "177cf370",
   "metadata": {},
   "outputs": [
    {
     "name": "stdout",
     "output_type": "stream",
     "text": [
      "dict_keys(['Sport', 'Teams'])\n",
      "dict_values(['Cricket', ['India', 'Australia', 'England', 'South Africa', 'Sri Lanka', 'New Zealand']])\n",
      "dict_items([('Sport', 'Cricket'), ('Teams', ['India', 'Australia', 'England', 'South Africa', 'Sri Lanka', 'New Zealand'])])\n"
     ]
    }
   ],
   "source": [
    "dict1={'Sport':'Cricket','Teams':['India','Australia','England','South Africa','Sri Lanka','New Zealand']}\n",
    "print(dict1.keys())\n",
    "print(dict1.values())\n",
    "print(dict1.items())"
   ]
  },
  {
   "cell_type": "code",
   "execution_count": null,
   "id": "be354ed0",
   "metadata": {},
   "outputs": [],
   "source": []
  },
  {
   "cell_type": "code",
   "execution_count": null,
   "id": "aa48359d",
   "metadata": {},
   "outputs": [],
   "source": []
  }
 ],
 "metadata": {
  "kernelspec": {
   "display_name": "Python 3 (ipykernel)",
   "language": "python",
   "name": "python3"
  },
  "language_info": {
   "codemirror_mode": {
    "name": "ipython",
    "version": 3
   },
   "file_extension": ".py",
   "mimetype": "text/x-python",
   "name": "python",
   "nbconvert_exporter": "python",
   "pygments_lexer": "ipython3",
   "version": "3.9.13"
  }
 },
 "nbformat": 4,
 "nbformat_minor": 5
}
